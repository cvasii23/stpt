{
 "cells": [
  {
   "cell_type": "markdown",
   "id": "c52f2dc6-170e-4721-9309-b8d7bdf6b99e",
   "metadata": {},
   "source": [
    "## Llamaindex function calling agents on Timisoara Public Transport Data"
   ]
  },
  {
   "cell_type": "code",
   "execution_count": 1,
   "id": "b975ac70-1378-4acb-b969-c7744f3cac89",
   "metadata": {},
   "outputs": [],
   "source": [
    "import http.client\n",
    "import json\n",
    "import pandas as pd\n",
    "import os\n",
    "\n",
    "from llama_index.llms.openai import OpenAI\n",
    "from llama_index.core.agent import FunctionCallingAgentWorker\n",
    "from llama_index.core.agent import AgentRunner\n",
    "from llama_index.core.tools import FunctionTool\n"
   ]
  },
  {
   "cell_type": "code",
   "execution_count": 2,
   "id": "877e2f11-146d-40fe-a1f3-871d99894fc7",
   "metadata": {},
   "outputs": [],
   "source": [
    "ratt_key = \"fill in your key\"\n",
    "\n",
    "OPENAI_API_KEY  = os.environ['OPENAI_API_KEY']"
   ]
  },
  {
   "cell_type": "markdown",
   "id": "6a8ce2ec-1032-4b00-819b-7211776d433f",
   "metadata": {},
   "source": [
    "### Get data about stops"
   ]
  },
  {
   "cell_type": "code",
   "execution_count": 3,
   "id": "4f3e8822-c890-4568-883e-5f917e04fdfd",
   "metadata": {},
   "outputs": [],
   "source": [
    "conn = http.client.HTTPSConnection(\"api.tranzy.ai\")\n",
    "\n",
    "headers = {\n",
    "    'X-Agency-Id': \"8\",\n",
    "    'Accept': \"application/json\",\n",
    "    'X-API-KEY': ratt_key\n",
    "}\n",
    "\n",
    "conn.request(\"GET\", \"/v1/opendata/stops\", headers=headers)\n",
    "\n",
    "res = conn.getresponse()\n",
    "data = res.read()\n",
    "\n"
   ]
  },
  {
   "cell_type": "code",
   "execution_count": 4,
   "id": "24848e32-f393-4e66-bde3-ea6f4566922e",
   "metadata": {},
   "outputs": [],
   "source": [
    "df_stop = pd.DataFrame(json.loads(data))"
   ]
  },
  {
   "cell_type": "code",
   "execution_count": 5,
   "id": "9f88a46b-0dd7-4aed-bb7a-f6004fcaad02",
   "metadata": {},
   "outputs": [
    {
     "data": {
      "text/html": [
       "<div>\n",
       "<style scoped>\n",
       "    .dataframe tbody tr th:only-of-type {\n",
       "        vertical-align: middle;\n",
       "    }\n",
       "\n",
       "    .dataframe tbody tr th {\n",
       "        vertical-align: top;\n",
       "    }\n",
       "\n",
       "    .dataframe thead th {\n",
       "        text-align: right;\n",
       "    }\n",
       "</style>\n",
       "<table border=\"1\" class=\"dataframe\">\n",
       "  <thead>\n",
       "    <tr style=\"text-align: right;\">\n",
       "      <th></th>\n",
       "      <th>stop_id</th>\n",
       "      <th>stop_name</th>\n",
       "      <th>stop_lat</th>\n",
       "      <th>stop_lon</th>\n",
       "      <th>location_type</th>\n",
       "      <th>stop_code</th>\n",
       "    </tr>\n",
       "  </thead>\n",
       "  <tbody>\n",
       "    <tr>\n",
       "      <th>0</th>\n",
       "      <td>1</td>\n",
       "      <td>Dâmbovița</td>\n",
       "      <td>45.74015</td>\n",
       "      <td>21.19611</td>\n",
       "      <td>0</td>\n",
       "      <td>1</td>\n",
       "    </tr>\n",
       "    <tr>\n",
       "      <th>1</th>\n",
       "      <td>2</td>\n",
       "      <td>Dâmbovița</td>\n",
       "      <td>45.74012</td>\n",
       "      <td>21.19624</td>\n",
       "      <td>0</td>\n",
       "      <td>2</td>\n",
       "    </tr>\n",
       "    <tr>\n",
       "      <th>2</th>\n",
       "      <td>3</td>\n",
       "      <td>Service Pădureni</td>\n",
       "      <td>45.59412</td>\n",
       "      <td>21.21272</td>\n",
       "      <td>0</td>\n",
       "      <td>3</td>\n",
       "    </tr>\n",
       "    <tr>\n",
       "      <th>3</th>\n",
       "      <td>4</td>\n",
       "      <td>Banatul</td>\n",
       "      <td>45.73662</td>\n",
       "      <td>21.19784</td>\n",
       "      <td>0</td>\n",
       "      <td>4</td>\n",
       "    </tr>\n",
       "    <tr>\n",
       "      <th>4</th>\n",
       "      <td>5</td>\n",
       "      <td>Banatul</td>\n",
       "      <td>45.73674</td>\n",
       "      <td>21.19787</td>\n",
       "      <td>0</td>\n",
       "      <td>5</td>\n",
       "    </tr>\n",
       "  </tbody>\n",
       "</table>\n",
       "</div>"
      ],
      "text/plain": [
       "   stop_id         stop_name  stop_lat  stop_lon  location_type stop_code\n",
       "0        1         Dâmbovița  45.74015  21.19611              0         1\n",
       "1        2         Dâmbovița  45.74012  21.19624              0         2\n",
       "2        3  Service Pădureni  45.59412  21.21272              0         3\n",
       "3        4           Banatul  45.73662  21.19784              0         4\n",
       "4        5           Banatul  45.73674  21.19787              0         5"
      ]
     },
     "execution_count": 5,
     "metadata": {},
     "output_type": "execute_result"
    }
   ],
   "source": [
    "df_stop.head()"
   ]
  },
  {
   "cell_type": "markdown",
   "id": "2b62c6fa-fd12-432f-bff6-0ef03ef7fc58",
   "metadata": {},
   "source": [
    "## Get data about routes"
   ]
  },
  {
   "cell_type": "code",
   "execution_count": 6,
   "id": "9bc41876-3ad7-403e-a664-3e52ee46f6d0",
   "metadata": {},
   "outputs": [],
   "source": [
    "conn = http.client.HTTPSConnection(\"api.tranzy.ai\")\n",
    "\n",
    "headers = {\n",
    "    'X-Agency-Id': \"8\",\n",
    "    'Accept': \"application/json\",\n",
    "    'X-API-KEY': ratt_key\n",
    "}\n",
    "\n",
    "conn.request(\"GET\", \"/v1/opendata/routes\", headers=headers)\n",
    "\n",
    "res_routes = conn.getresponse()\n",
    "data_routes = res_routes.read()\n",
    "df_routes = pd.DataFrame(json.loads(data_routes))\n",
    "#json.loads(data_routes)"
   ]
  },
  {
   "cell_type": "code",
   "execution_count": 7,
   "id": "cd7c4f01-db07-40e5-8262-d661fdac06eb",
   "metadata": {},
   "outputs": [
    {
     "data": {
      "text/html": [
       "<div>\n",
       "<style scoped>\n",
       "    .dataframe tbody tr th:only-of-type {\n",
       "        vertical-align: middle;\n",
       "    }\n",
       "\n",
       "    .dataframe tbody tr th {\n",
       "        vertical-align: top;\n",
       "    }\n",
       "\n",
       "    .dataframe thead th {\n",
       "        text-align: right;\n",
       "    }\n",
       "</style>\n",
       "<table border=\"1\" class=\"dataframe\">\n",
       "  <thead>\n",
       "    <tr style=\"text-align: right;\">\n",
       "      <th></th>\n",
       "      <th>agency_id</th>\n",
       "      <th>route_id</th>\n",
       "      <th>route_short_name</th>\n",
       "      <th>route_long_name</th>\n",
       "      <th>route_color</th>\n",
       "      <th>route_type</th>\n",
       "      <th>route_desc</th>\n",
       "    </tr>\n",
       "  </thead>\n",
       "  <tbody>\n",
       "    <tr>\n",
       "      <th>0</th>\n",
       "      <td>8</td>\n",
       "      <td>1</td>\n",
       "      <td>1</td>\n",
       "      <td>Gara de Nord - Stația Meteo</td>\n",
       "      <td>#e3a900</td>\n",
       "      <td>0</td>\n",
       "      <td>V. Economu</td>\n",
       "    </tr>\n",
       "    <tr>\n",
       "      <th>1</th>\n",
       "      <td>8</td>\n",
       "      <td>2</td>\n",
       "      <td>11</td>\n",
       "      <td>Gheorghe Barițiu - Arena Aqua</td>\n",
       "      <td>#6f2095</td>\n",
       "      <td>11</td>\n",
       "      <td>P-ța 700</td>\n",
       "    </tr>\n",
       "    <tr>\n",
       "      <th>2</th>\n",
       "      <td>8</td>\n",
       "      <td>3</td>\n",
       "      <td>33</td>\n",
       "      <td>Catedrala Mitropolitană - Pod Calea Șagului</td>\n",
       "      <td>#0148a2</td>\n",
       "      <td>3</td>\n",
       "      <td>P-ța Mocioni</td>\n",
       "    </tr>\n",
       "    <tr>\n",
       "      <th>3</th>\n",
       "      <td>8</td>\n",
       "      <td>6</td>\n",
       "      <td>23</td>\n",
       "      <td>P-ța Gheorghe Domășneanu (Auchan) - Gara de Est</td>\n",
       "      <td>#0148a2</td>\n",
       "      <td>3</td>\n",
       "      <td>P-ța Gheorghe Domășneanu (Auchan) - Gara de Est</td>\n",
       "    </tr>\n",
       "    <tr>\n",
       "      <th>4</th>\n",
       "      <td>8</td>\n",
       "      <td>15</td>\n",
       "      <td>2</td>\n",
       "      <td>Shopping City - Stația Meteo</td>\n",
       "      <td>#e3a900</td>\n",
       "      <td>0</td>\n",
       "      <td>P-ța Traian</td>\n",
       "    </tr>\n",
       "  </tbody>\n",
       "</table>\n",
       "</div>"
      ],
      "text/plain": [
       "  agency_id  route_id route_short_name  \\\n",
       "0         8         1                1   \n",
       "1         8         2               11   \n",
       "2         8         3               33   \n",
       "3         8         6               23   \n",
       "4         8        15                2   \n",
       "\n",
       "                                   route_long_name route_color  route_type  \\\n",
       "0                      Gara de Nord - Stația Meteo     #e3a900           0   \n",
       "1                    Gheorghe Barițiu - Arena Aqua     #6f2095          11   \n",
       "2      Catedrala Mitropolitană - Pod Calea Șagului     #0148a2           3   \n",
       "3  P-ța Gheorghe Domășneanu (Auchan) - Gara de Est     #0148a2           3   \n",
       "4                     Shopping City - Stația Meteo     #e3a900           0   \n",
       "\n",
       "                                        route_desc  \n",
       "0                                       V. Economu  \n",
       "1                                         P-ța 700  \n",
       "2                                     P-ța Mocioni  \n",
       "3  P-ța Gheorghe Domășneanu (Auchan) - Gara de Est  \n",
       "4                                      P-ța Traian  "
      ]
     },
     "execution_count": 7,
     "metadata": {},
     "output_type": "execute_result"
    }
   ],
   "source": [
    "df_routes.head()"
   ]
  },
  {
   "cell_type": "code",
   "execution_count": 8,
   "id": "0bb9f317-490a-4503-8d8d-f42a0c6794c4",
   "metadata": {},
   "outputs": [],
   "source": [
    "vehicle_type = {0:\"Tram\",\n",
    "1: \"Metro\",\n",
    "2 : \"Rail\",\n",
    "3 : \"Bus\",\n",
    "4 : \"Ferry\",\n",
    "5 : \"Cable tram\",\n",
    "6 : \"Aerial lift\",\n",
    "7 : \"Funicular\",\n",
    "11 : \"Trolleybus\",\n",
    "12 : \"Monorail\"}"
   ]
  },
  {
   "cell_type": "code",
   "execution_count": 9,
   "id": "abfee7c5-e070-4b2a-bb77-09b9d79576c5",
   "metadata": {},
   "outputs": [],
   "source": [
    "my_lat, my_long = 45.765697699747, 21.21196413909974 # some location as input"
   ]
  },
  {
   "cell_type": "markdown",
   "id": "f95a42f5-fd59-48ec-9257-45ce6dd35a8e",
   "metadata": {},
   "source": [
    "### Write some functions. For the llamaindex framework, the description should be detailed"
   ]
  },
  {
   "cell_type": "code",
   "execution_count": 10,
   "id": "a8460d4e-17da-4122-9dc2-3836a77a3cfd",
   "metadata": {},
   "outputs": [],
   "source": [
    "def get_closest_vehicle(long=my_long, lat=my_lat):\n",
    "    '''\n",
    "    Get the closest vehicle to a given location\n",
    "    The input is the logitude and latitude of the location\n",
    "    The output is information about the closest vehicle\n",
    "    '''\n",
    "    conn.request(\"GET\", \"/v1/opendata/vehicles\", headers=headers)\n",
    "    res3 = conn.getresponse()\n",
    "    data3 = res3.read()\n",
    "    vehicle_df = pd.DataFrame(json.loads(data3))\n",
    "    long_sq = [ (x - long)**2 for x in vehicle_df['longitude'].tolist()]\n",
    "    lat_sq = [(y - lat)**2 for y in vehicle_df['latitude'].tolist()]\n",
    "    result = [x + y for x, y in zip(long_sq, lat_sq)]\n",
    "    ind = result.index(min(result))\n",
    "    row = vehicle_df.iloc[ind,:]\n",
    "    return row\n",
    "    #return vehicle_df.iloc[ind,:][\"vehicle_type\"]\n",
    "\n"
   ]
  },
  {
   "cell_type": "code",
   "execution_count": 11,
   "id": "bd71179e-bd6c-42ae-84b2-4d3b15beae05",
   "metadata": {},
   "outputs": [],
   "source": [
    "#above, trip_id _0 is the direct route, _1 is the return\n"
   ]
  },
  {
   "cell_type": "code",
   "execution_count": 12,
   "id": "a22c0313-7d38-428c-ad99-5414fc09fa58",
   "metadata": {},
   "outputs": [],
   "source": [
    "def get_closest_vehicle_info(long=my_long, lat=my_lat):\n",
    "    '''\n",
    "    Get information about the closest vehicle to a given location\n",
    "    The input is the logitude and latitude of the location\n",
    "    The output is vehicle type, route name, starting point name, destination name of the closest vehicle\n",
    "    '''\n",
    "    conn.request(\"GET\", \"/v1/opendata/vehicles\", headers=headers)\n",
    "    res3 = conn.getresponse()\n",
    "    data3 = res3.read()\n",
    "    vehicle_df = pd.DataFrame(json.loads(data3))\n",
    "    long_sq = [ (x - long)**2 for x in vehicle_df['longitude'].tolist()]\n",
    "    lat_sq = [(y - lat)**2 for y in vehicle_df['latitude'].tolist()]\n",
    "    result = [x + y for x, y in zip(long_sq, lat_sq)]\n",
    "    ind = result.index(min(result))\n",
    "    row = vehicle_df.iloc[ind,:]\n",
    "    route_row = df_routes[df_routes[\"route_id\"] == row[\"route_id\"]]\n",
    "    try:\n",
    "        way = int(row['trip_id'].split('_')[1])\n",
    "    except:\n",
    "        way = 0\n",
    "    line_ends = elem = route_row[\"route_long_name\"].loc[route_row[\"route_long_name\"].index[0]].split(' - ')\n",
    "    \n",
    "    return vehicle_type[row[\"vehicle_type\"]], line_ends[way % 2], line_ends[(1 + way) % 2]\n",
    "\n"
   ]
  },
  {
   "cell_type": "code",
   "execution_count": 13,
   "id": "16002ac7-733e-4364-b3c4-475a2aaffde3",
   "metadata": {},
   "outputs": [],
   "source": [
    "def get_closest_vehicle_location(long=my_long, lat=my_lat):\n",
    "    '''\n",
    "    Get the current location of closest vehicle to a given location\n",
    "    The input is the logitude and latitude of the location\n",
    "    The output is vehicle's longitude, vehicle's latitude\n",
    "    '''\n",
    "    conn.request(\"GET\", \"/v1/opendata/vehicles\", headers=headers)\n",
    "    res3 = conn.getresponse()\n",
    "    data3 = res3.read()\n",
    "    vehicle_df = pd.DataFrame(json.loads(data3))\n",
    "    long_sq = [ (x - long)**2 for x in vehicle_df['longitude'].tolist()]\n",
    "    lat_sq = [(y - lat)**2 for y in vehicle_df['latitude'].tolist()]\n",
    "    result = [x + y for x, y in zip(long_sq, lat_sq)]\n",
    "    ind = result.index(min(result))\n",
    "    row = vehicle_df.iloc[ind,:]\n",
    "    return row[\"longitude\"], row[\"latitude\"]"
   ]
  },
  {
   "cell_type": "code",
   "execution_count": 14,
   "id": "74dc0c57-f3ae-4139-8d7d-28c8251112c7",
   "metadata": {},
   "outputs": [],
   "source": [
    "def get_closest_stop(long=my_long, lat=my_lat):\n",
    "    '''\n",
    "    Get the closest stop to a given location\n",
    "    The input is the logitude and latitude of the location\n",
    "    The output is information about the stop\n",
    "    '''\n",
    "    long_sq = [ (x - long)**2 for x in df_stop['stop_lon'].tolist()]\n",
    "    lat_sq = [(y - lat)**2 for y in df_stop['stop_lat'].tolist()]\n",
    "    result = [x + y for x, y in zip(long_sq, lat_sq)]\n",
    "    ind = result.index(min(result))\n",
    "    return df_stop.iloc[ind,:]"
   ]
  },
  {
   "cell_type": "code",
   "execution_count": 15,
   "id": "ec7a2ec4-a544-41a1-821a-83773eab1c60",
   "metadata": {},
   "outputs": [],
   "source": [
    "llm = OpenAI(model=\"gpt-3.5-turbo\", temperature=0)"
   ]
  },
  {
   "cell_type": "markdown",
   "id": "43994627-b279-4d93-81ba-4b3bc459e150",
   "metadata": {},
   "source": [
    "### Register the functions as tools"
   ]
  },
  {
   "cell_type": "code",
   "execution_count": 16,
   "id": "a2249342-7666-4696-9bd6-9798c6fa6418",
   "metadata": {},
   "outputs": [],
   "source": [
    "get_closest_stop_tool = FunctionTool.from_defaults(fn=get_closest_stop)\n",
    "get_closest_vehicle_info_tool = FunctionTool.from_defaults(fn= get_closest_vehicle_info)\n",
    "get_closest_vehicle_location_tool = FunctionTool.from_defaults(fn= get_closest_vehicle_location)"
   ]
  },
  {
   "cell_type": "code",
   "execution_count": 17,
   "id": "9f74d9aa-40a9-45f1-92f4-777774b2f3ae",
   "metadata": {},
   "outputs": [],
   "source": [
    "agent_worker = FunctionCallingAgentWorker.from_tools(\n",
    "    [get_closest_stop_tool, get_closest_vehicle_info_tool, get_closest_vehicle_location_tool ], \n",
    "    llm=llm, \n",
    "    verbose=True\n",
    ")\n",
    "agent = AgentRunner(agent_worker)"
   ]
  },
  {
   "cell_type": "markdown",
   "id": "f4c9c627-0b58-4ad5-877d-a0c71078b503",
   "metadata": {},
   "source": [
    "### The agents are able to run the function, even to compose $f\\circ g$"
   ]
  },
  {
   "cell_type": "code",
   "execution_count": 18,
   "id": "c5406c27-2d20-49c1-8ab9-3db33879aa49",
   "metadata": {},
   "outputs": [
    {
     "name": "stdout",
     "output_type": "stream",
     "text": [
      "Added user message to memory: Which in the closest stop to my location?\n",
      "=== Calling Function ===\n",
      "Calling function: get_closest_stop with args: {}\n",
      "=== Function Output ===\n",
      "stop_id                875\n",
      "stop_name          Amforei\n",
      "stop_lat         45.765295\n",
      "stop_lon         21.212852\n",
      "location_type            0\n",
      "stop_code              898\n",
      "Name: 874, dtype: object\n",
      "=== LLM Response ===\n",
      "The closest stop to your location is \"Amforei\" with a stop ID of 875. The latitude is 45.765295 and the longitude is 21.212852.\n"
     ]
    }
   ],
   "source": [
    "response = agent.chat(\n",
    "    \"Which in the closest stop to my location?\"\n",
    ")"
   ]
  },
  {
   "cell_type": "code",
   "execution_count": 19,
   "id": "99986686-785e-4e6f-b13d-661dc9b356c9",
   "metadata": {},
   "outputs": [
    {
     "name": "stdout",
     "output_type": "stream",
     "text": [
      "Added user message to memory: What vehicle is closest to my location?\n",
      "=== Calling Function ===\n",
      "Calling function: get_closest_vehicle_info with args: {}\n",
      "=== Function Output ===\n",
      "Encountered error: Remote end closed connection without response\n",
      "=== LLM Response ===\n",
      "I encountered an error while trying to retrieve information about the closest vehicle to your location. Let me try again.\n",
      "=== Calling Function ===\n",
      "Calling function: get_closest_vehicle_info with args: {}\n",
      "=== Function Output ===\n",
      "('Tram', 'Ronaț', 'Stația Meteo')\n",
      "=== LLM Response ===\n",
      "The closest vehicle to your location is a Tram with the route name \"Ronaț\". It is currently at the starting point named \"Stația Meteo\".\n"
     ]
    }
   ],
   "source": [
    "response = agent.chat(\n",
    "    \"What vehicle is closest to my location?\"\n",
    ")"
   ]
  },
  {
   "cell_type": "code",
   "execution_count": 20,
   "id": "aaef2ef6-fa50-4fec-b73a-cf99e44e93a1",
   "metadata": {},
   "outputs": [
    {
     "name": "stdout",
     "output_type": "stream",
     "text": [
      "Added user message to memory: my location has 45.80724372409756 latitude and  21.24189921257169 longitudeWhich stop is closest to my location?\n",
      "=== Calling Function ===\n",
      "Calling function: get_closest_stop with args: {\"lat\": 45.80724372409756, \"long\": 21.24189921257169}\n",
      "=== Function Output ===\n",
      "stop_id                            607\n",
      "stop_name        Crișurilor Dumbrăvița\n",
      "stop_lat                     45.806834\n",
      "stop_lon                     21.237898\n",
      "location_type                        0\n",
      "stop_code                          617\n",
      "Name: 606, dtype: object\n",
      "=== LLM Response ===\n",
      "The closest stop to your location with latitude 45.80724372409756 and longitude 21.24189921257169 is \"Crișurilor Dumbrăvița\" with a stop ID of 607. The latitude of the stop is 45.806834 and the longitude is 21.237898.\n"
     ]
    }
   ],
   "source": [
    "response = agent.chat(\n",
    "    \"my location has 45.80724372409756 latitude and  21.24189921257169 longitude\"\n",
    "    \"Which stop is closest to my location?\"\n",
    ")"
   ]
  },
  {
   "cell_type": "code",
   "execution_count": 21,
   "id": "948b7fa3-d8b1-40f1-b55a-18154ce33ce1",
   "metadata": {},
   "outputs": [
    {
     "name": "stdout",
     "output_type": "stream",
     "text": [
      "Added user message to memory: my location has 45.80724372409756 latitude and  21.24189921257169 longitudeTell me which is the closest stop, then what vehicle is closest to that stop\n",
      "=== Calling Function ===\n",
      "Calling function: get_closest_stop with args: {\"lat\": 45.80724372409756, \"long\": 21.24189921257169}\n",
      "=== Function Output ===\n",
      "stop_id                            607\n",
      "stop_name        Crișurilor Dumbrăvița\n",
      "stop_lat                     45.806834\n",
      "stop_lon                     21.237898\n",
      "location_type                        0\n",
      "stop_code                          617\n",
      "Name: 606, dtype: object\n",
      "=== Calling Function ===\n",
      "Calling function: get_closest_vehicle_info with args: {\"lat\": 45.80724372409756, \"long\": 21.24189921257169}\n",
      "=== Function Output ===\n",
      "Encountered error: Remote end closed connection without response\n",
      "=== LLM Response ===\n",
      "The closest stop to your location with latitude 45.80724372409756 and longitude 21.24189921257169 is \"Crișurilor Dumbrăvița\" with a stop ID of 607. The latitude of the stop is 45.806834 and the longitude is 21.237898.\n",
      "\n",
      "I encountered an error while trying to retrieve information about the closest vehicle to that stop. Let me try again.\n",
      "=== Calling Function ===\n",
      "Calling function: get_closest_vehicle_info with args: {\"lat\": 45.806834, \"long\": 21.237898}\n",
      "=== Function Output ===\n",
      "('Bus', 'Belvedere (Dumbrăvița)', 'Ion Ionescu de la Brad')\n",
      "=== LLM Response ===\n",
      "The closest vehicle to the stop \"Crișurilor Dumbrăvița\" is a Bus with the route name \"Belvedere (Dumbrăvița)\". The bus is currently at the starting point named \"Ion Ionescu de la Brad\".\n"
     ]
    }
   ],
   "source": [
    "response = agent.chat(\n",
    "    \"my location has 45.80724372409756 latitude and  21.24189921257169 longitude\"\n",
    "    \"Tell me which is the closest stop, then what vehicle is closest to that stop\"\n",
    ")"
   ]
  },
  {
   "cell_type": "code",
   "execution_count": 22,
   "id": "cbba19fe-b382-4469-80d3-c7f2f86c1708",
   "metadata": {},
   "outputs": [
    {
     "name": "stdout",
     "output_type": "stream",
     "text": [
      "Added user message to memory: my location has 45.80724372409756 latitude and  21.24189921257169 longitudeWhat vehicle is closest to my position and using that vehicle's longitude and latitude find what stop is closest to the vehicle's position?\n",
      "=== Calling Function ===\n",
      "Calling function: get_closest_vehicle_info with args: {\"lat\": 45.80724372409756, \"long\": 21.24189921257169}\n",
      "=== Function Output ===\n",
      "('Bus', 'Ion Ionescu de la Brad', 'Belvedere (Dumbrăvița)')\n",
      "=== Calling Function ===\n",
      "Calling function: get_closest_vehicle_location with args: {\"lat\": 45.80724372409756, \"long\": 21.24189921257169}\n",
      "=== Function Output ===\n",
      "(21.2348633, 45.78039)\n",
      "=== Calling Function ===\n",
      "Calling function: get_closest_stop with args: {\"lat\": 45.78039, \"long\": 21.2348633}\n",
      "=== Function Output ===\n",
      "stop_id                             162\n",
      "stop_name        Ion Ionescu de la Brad\n",
      "stop_lat                       45.77995\n",
      "stop_lon                       21.23458\n",
      "location_type                         0\n",
      "stop_code                           162\n",
      "Name: 161, dtype: object\n",
      "=== LLM Response ===\n",
      "The closest vehicle to your location with latitude 45.80724372409756 and longitude 21.24189921257169 is a Bus. The bus is on the route from \"Ion Ionescu de la Brad\" to \"Belvedere (Dumbrăvița)\".\n",
      "\n",
      "The current location of the bus is at longitude 21.2348633 and latitude 45.78039.\n",
      "\n",
      "The closest stop to the bus's location is \"Ion Ionescu de la Brad\" with a stop ID of 162. The latitude of the stop is 45.77995 and the longitude is 21.23458.\n"
     ]
    }
   ],
   "source": [
    "response = agent.chat(\n",
    "    \"my location has 45.80724372409756 latitude and  21.24189921257169 longitude\"\n",
    "    \"What vehicle is closest to my position and using that vehicle's longitude and latitude\"\n",
    "    \" find what stop is closest to the vehicle's position?\"\n",
    ")"
   ]
  },
  {
   "cell_type": "code",
   "execution_count": null,
   "id": "d32dbecc-716f-4931-a835-8cfe99884cb3",
   "metadata": {},
   "outputs": [],
   "source": []
  },
  {
   "cell_type": "code",
   "execution_count": null,
   "id": "b24277d1-0584-4e49-8930-a6694325057a",
   "metadata": {},
   "outputs": [],
   "source": []
  }
 ],
 "metadata": {
  "kernelspec": {
   "display_name": "Python 3 (ipykernel)",
   "language": "python",
   "name": "python3"
  },
  "language_info": {
   "codemirror_mode": {
    "name": "ipython",
    "version": 3
   },
   "file_extension": ".py",
   "mimetype": "text/x-python",
   "name": "python",
   "nbconvert_exporter": "python",
   "pygments_lexer": "ipython3",
   "version": "3.12.2"
  }
 },
 "nbformat": 4,
 "nbformat_minor": 5
}
